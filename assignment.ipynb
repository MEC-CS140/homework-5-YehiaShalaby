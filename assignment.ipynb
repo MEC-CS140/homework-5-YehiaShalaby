{
 "cells": [
  {
   "cell_type": "markdown",
   "metadata": {},
   "source": [
    "# CS 140 Python Assignment:Lists, Loops, Functions\n",
    "\n",
    "## How to run:\n",
    "- Select Kernel (top left)\n",
    "- Python Environments\n",
    "- Python 3.10.13 (any version will work)\n",
    "\n",
    "\n",
    "## Assignment instructions\n",
    "1. Follow the instructions in the comments\n",
    "2. Commit your code\n",
    "3. Past assignment repository to Blackboard\n",
    "\n",
    "**Make a new Code cell by clicking the + Code button at the top of the notebook.**"
   ]
  },
  {
   "cell_type": "code",
   "execution_count": 1,
   "metadata": {},
   "outputs": [
    {
     "name": "stdout",
     "output_type": "stream",
     "text": [
      "8\n",
      "False\n"
     ]
    }
   ],
   "source": [
    "num_list = [2, 7, 10, 100, 101, 200 ,270, 947]\n",
    "\n",
    "# Print the length of this list (10 points)\n",
    "print(len(num_list))\n",
    "# Remove 100 from num_list (10 points)\n",
    "num_list.remove(100)\n",
    "# Write code that tries to find 31 exist in this list (10 points)\n",
    "print(31 in num_list)"
   ]
  },
  {
   "cell_type": "code",
   "execution_count": 2,
   "metadata": {},
   "outputs": [
    {
     "name": "stdout",
     "output_type": "stream",
     "text": [
      "1\n",
      "2\n",
      "Fizz\n",
      "4\n",
      "Buzz\n",
      "Fizz\n",
      "7\n",
      "8\n",
      "Fizz\n",
      "Buzz\n",
      "11\n",
      "Fizz\n",
      "13\n",
      "14\n",
      "Fizz\n",
      "16\n",
      "17\n",
      "Fizz\n",
      "19\n",
      "Buzz\n",
      "Fizz\n",
      "22\n",
      "23\n",
      "Fizz\n",
      "Buzz\n",
      "26\n",
      "Fizz\n",
      "28\n",
      "29\n",
      "Fizz\n",
      "31\n",
      "32\n",
      "Fizz\n",
      "34\n",
      "Buzz\n",
      "Fizz\n",
      "37\n",
      "38\n",
      "Fizz\n",
      "Buzz\n",
      "41\n",
      "Fizz\n",
      "43\n",
      "44\n",
      "Fizz\n",
      "46\n",
      "47\n",
      "Fizz\n",
      "49\n",
      "Buzz\n",
      "Fizz\n",
      "52\n",
      "53\n",
      "Fizz\n",
      "Buzz\n",
      "56\n",
      "Fizz\n",
      "58\n",
      "59\n",
      "Fizz\n",
      "61\n",
      "62\n",
      "Fizz\n",
      "64\n",
      "Buzz\n",
      "Fizz\n",
      "67\n",
      "68\n",
      "Fizz\n",
      "Buzz\n",
      "71\n",
      "Fizz\n",
      "73\n",
      "74\n",
      "Fizz\n",
      "76\n",
      "77\n",
      "Fizz\n",
      "79\n",
      "Buzz\n",
      "Fizz\n",
      "82\n",
      "83\n",
      "Fizz\n",
      "Buzz\n",
      "86\n",
      "Fizz\n",
      "88\n",
      "89\n",
      "Fizz\n",
      "91\n",
      "92\n",
      "Fizz\n",
      "94\n",
      "Buzz\n",
      "Fizz\n",
      "97\n",
      "98\n",
      "Fizz\n",
      "Buzz\n"
     ]
    }
   ],
   "source": [
    "# Fizz Buzz\n",
    "# Print the numbers 1 to 100 (10 points)\n",
    "for num in range(1,101):\n",
    "    if num % 3 == 0 or num % 3 == 0 and num % 5 == 0:\n",
    "        print(\"Fizz\")\n",
    "    elif num % 5 == 0:\n",
    "        print(\"Buzz\")  \n",
    "    else:\n",
    "        print(num)\n",
    "# If a number is multiple of 3, print the word \"Fizz\" instead of the number (10 points)\n",
    "# If a number is multiple of 5, print the word \"Buzz\" instead of the number (10 points)\n",
    "# For numbers that can are a multiple of 3 and 5 (like 15) print \"Fizz\" instead of the number (10 points)\n",
    "\n",
    "# if number % 3 == 0:\n",
    "#   print(\"fizz\")"
   ]
  },
  {
   "cell_type": "code",
   "execution_count": 3,
   "metadata": {},
   "outputs": [
    {
     "name": "stdout",
     "output_type": "stream",
     "text": [
      "12\n",
      "-2\n"
     ]
    }
   ],
   "source": [
    "# Create a function that adds two numbers together and returns the sum (10 points)\n",
    "# The two numbers must be parameters (5 points)\n",
    "\n",
    "def add(num1, num2):\n",
    "    return num1 + num2\n",
    "# Create a function that subtracts two numbers together and returns the difference (10 points)\n",
    "# The two numbers need to be parameters (5 points)\n",
    "\n",
    "def subtract(num1, num2):\n",
    "    return num1 - num2\n",
    "\n",
    "\n",
    "print(add(5, 7))\n",
    "print(subtract(5, 7))"
   ]
  }
 ],
 "metadata": {
  "kernelspec": {
   "display_name": "Python 3",
   "language": "python",
   "name": "python3"
  },
  "language_info": {
   "codemirror_mode": {
    "name": "ipython",
    "version": 3
   },
   "file_extension": ".py",
   "mimetype": "text/x-python",
   "name": "python",
   "nbconvert_exporter": "python",
   "pygments_lexer": "ipython3",
   "version": "3.10.13"
  }
 },
 "nbformat": 4,
 "nbformat_minor": 2
}
